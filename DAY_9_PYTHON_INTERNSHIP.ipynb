{
  "nbformat": 4,
  "nbformat_minor": 0,
  "metadata": {
    "colab": {
      "name": "DAY-9 PYTHON INTERNSHIP.ipynb",
      "provenance": [],
      "collapsed_sections": [],
      "authorship_tag": "ABX9TyPmOC6qdZa++5/XtQczjqy7",
      "include_colab_link": true
    },
    "kernelspec": {
      "name": "python3",
      "display_name": "Python 3"
    }
  },
  "cells": [
    {
      "cell_type": "markdown",
      "metadata": {
        "id": "view-in-github",
        "colab_type": "text"
      },
      "source": [
        "<a href=\"https://colab.research.google.com/github/Abarna13/30-days-of-Python-Internship/blob/main/DAY_9_PYTHON_INTERNSHIP.ipynb\" target=\"_parent\"><img src=\"https://colab.research.google.com/assets/colab-badge.svg\" alt=\"Open In Colab\"/></a>"
      ]
    },
    {
      "cell_type": "markdown",
      "metadata": {
        "id": "Wr2ECyP2WWgR"
      },
      "source": [
        "#                                  PYTHON INTERNSHIP\n",
        "\n",
        "#                                      DAY - 9"
      ]
    },
    {
      "cell_type": "markdown",
      "metadata": {
        "id": "AD9L0BH5W9U8"
      },
      "source": [
        "LAMDA :\n",
        "\n",
        "NOTES :"
      ]
    },
    {
      "cell_type": "markdown",
      "metadata": {
        "id": "sXba6GHvW5bh"
      },
      "source": [
        ""
      ]
    },
    {
      "cell_type": "markdown",
      "metadata": {
        "id": "lmtoTLZNXJds"
      },
      "source": [
        "Add 10 to argument a and return the result:"
      ]
    },
    {
      "cell_type": "code",
      "metadata": {
        "colab": {
          "base_uri": "https://localhost:8080/"
        },
        "id": "cVKQdPC4XPT_",
        "outputId": "569fc0f8-9e22-4a56-e3af-1c4164fa8924"
      },
      "source": [
        "x = lambda m : m + 10\n",
        "print(x(5))"
      ],
      "execution_count": 1,
      "outputs": [
        {
          "output_type": "stream",
          "text": [
            "15\n"
          ],
          "name": "stdout"
        }
      ]
    },
    {
      "cell_type": "markdown",
      "metadata": {
        "id": "ZR7Q-5eWX0je"
      },
      "source": [
        "* The power of a lambda is better shown when you use them as an anonymous function inside another function , when you have a function definition that takes one argument , and that argument will be multiplied with an unknown number ."
      ]
    },
    {
      "cell_type": "code",
      "metadata": {
        "colab": {
          "base_uri": "https://localhost:8080/"
        },
        "id": "FVk3J1xXX2hJ",
        "outputId": "88dff4e2-70a3-4d7f-db3c-bbd76e6f3aff"
      },
      "source": [
        "def myfunc(n):\n",
        "    return lambda a : a * n\n",
        "mydoubler = myfunc(2)\n",
        "print(mydoubler(11))"
      ],
      "execution_count": 2,
      "outputs": [
        {
          "output_type": "stream",
          "text": [
            "22\n"
          ],
          "name": "stdout"
        }
      ]
    },
    {
      "cell_type": "markdown",
      "metadata": {
        "id": "JG_1J8U2Y6VS"
      },
      "source": [
        "Using Filter() function :"
      ]
    },
    {
      "cell_type": "code",
      "metadata": {
        "colab": {
          "base_uri": "https://localhost:8080/"
        },
        "id": "R4GrDm14Y7Si",
        "outputId": "82416ec1-7294-42e5-c2fc-c56a850b2126"
      },
      "source": [
        "list = [12, 65, 54, 39, 102, 339, 221, 50, 70, ] \n",
        "result = tuple(filter(lambda x:(x % 3 == 0),list))\n",
        "print(result)"
      ],
      "execution_count": 3,
      "outputs": [
        {
          "output_type": "stream",
          "text": [
            "(12, 54, 39, 102, 339)\n"
          ],
          "name": "stdout"
        }
      ]
    },
    {
      "cell_type": "markdown",
      "metadata": {
        "id": "bvPBJ2BufwmZ"
      },
      "source": [
        "EXERCISE :"
      ]
    },
    {
      "cell_type": "markdown",
      "metadata": {
        "id": "mnc4Ms-ogFxJ"
      },
      "source": [
        "1) Create a lambda function that multiplies argument x with argument y"
      ]
    },
    {
      "cell_type": "code",
      "metadata": {
        "colab": {
          "base_uri": "https://localhost:8080/"
        },
        "id": "XL0Xr_A2gIY9",
        "outputId": "b250e26d-91c8-4718-c678-fa38b8396f0f"
      },
      "source": [
        "mul = lambda x,y : x*y\n",
        "print(mul(2,3))\n"
      ],
      "execution_count": 8,
      "outputs": [
        {
          "output_type": "stream",
          "text": [
            "6\n"
          ],
          "name": "stdout"
        }
      ]
    },
    {
      "cell_type": "markdown",
      "metadata": {
        "id": "ISjEtHSEm6iX"
      },
      "source": [
        "2 Write a Python program to create Fibonacci series to n using Lambda\n",
        "\n"
      ]
    },
    {
      "cell_type": "code",
      "metadata": {
        "colab": {
          "base_uri": "https://localhost:8080/"
        },
        "id": "e4Er9Nu9m7Zg",
        "outputId": "b0346a78-4111-4052-e666-659716906673"
      },
      "source": [
        "def fibonacci(count):\n",
        "    s = [0, 1]\n",
        "\n",
        "    any(map(lambda _: s.append(sum(s[-2:])), range(2, count)))\n",
        "\n",
        "    return s[:count]\n",
        "\n",
        "print(fibonacci(int(input())))\n"
      ],
      "execution_count": 9,
      "outputs": [
        {
          "output_type": "stream",
          "text": [
            "6\n",
            "[0, 1, 1, 2, 3, 5]\n"
          ],
          "name": "stdout"
        }
      ]
    },
    {
      "cell_type": "markdown",
      "metadata": {
        "id": "oNQMD6OonECa"
      },
      "source": [
        ""
      ]
    },
    {
      "cell_type": "markdown",
      "metadata": {
        "id": "p7ek-xHenGJw"
      },
      "source": [
        "3) Write a Python program that multiply each number of given list with a given number\n",
        "\n"
      ]
    },
    {
      "cell_type": "code",
      "metadata": {
        "colab": {
          "base_uri": "https://localhost:8080/"
        },
        "id": "L54FfrlHnHDt",
        "outputId": "02acc9e3-ab7d-4675-8cda-a3412f49cd7f"
      },
      "source": [
        "del list\n",
        "mylist=[]\n",
        "n=int(input(\"enter no of elemnts\"))\n",
        "for i in range(0,n):\n",
        "    ele=int(input(\"enter element\"+str(i+1)+\":\"))\n",
        "    mylist.append(ele)\n",
        "print(mylist)\n",
        "print(\"enter the number by which you want to multiply the list elements\")\n",
        "k=int(input())\n",
        "nresult=(map(lambda x:x*k,mylist))\n",
        "print(list(nresult))\n"
      ],
      "execution_count": 15,
      "outputs": [
        {
          "output_type": "stream",
          "text": [
            "enter no of elemnts4\n",
            "enter element1:1\n",
            "enter element2:3\n",
            "enter element3:8\n",
            "enter element4:9\n",
            "[1, 3, 8, 9]\n",
            "enter the number by which you want to multiply the list elements\n",
            "6\n",
            "[6, 18, 48, 54]\n"
          ],
          "name": "stdout"
        }
      ]
    },
    {
      "cell_type": "markdown",
      "metadata": {
        "id": "_NIV88nkpTt3"
      },
      "source": [
        "4) Write a Python program to find numbers divisible by 9 from a list of numbers\n"
      ]
    },
    {
      "cell_type": "code",
      "metadata": {
        "colab": {
          "base_uri": "https://localhost:8080/"
        },
        "id": "cvENQCH8pXge",
        "outputId": "e2476440-81cf-4217-96f8-dbea050ce9b6"
      },
      "source": [
        "l = [1,9,18,27,24,67,90]\n",
        "mul = list(filter(lambda x:(x%9 == 0),l))\n",
        "print(\"The numbers divisible by 9 : \",mul)\n"
      ],
      "execution_count": 16,
      "outputs": [
        {
          "output_type": "stream",
          "text": [
            "The numbers divisible by 9 :  [9, 18, 27, 90]\n"
          ],
          "name": "stdout"
        }
      ]
    },
    {
      "cell_type": "markdown",
      "metadata": {
        "id": "JdXAyyJkpinR"
      },
      "source": [
        "5) Write a Python program to count the even numbers in a given list of integers\n"
      ]
    },
    {
      "cell_type": "code",
      "metadata": {
        "colab": {
          "base_uri": "https://localhost:8080/"
        },
        "id": "t3bn682BpmE_",
        "outputId": "ed54619f-2dae-4d91-88c3-4d070b3241c2"
      },
      "source": [
        "l = [1,2,3,4,5,6,7,8,9]\n",
        "even = list(filter(lambda x:(x%2 == 0),l))\n",
        "print(\"The count of even numbers in a given list : \",len(even))\n"
      ],
      "execution_count": 17,
      "outputs": [
        {
          "output_type": "stream",
          "text": [
            "The count of even numbers in a given list :  4\n"
          ],
          "name": "stdout"
        }
      ]
    },
    {
      "cell_type": "code",
      "metadata": {
        "id": "ilkz0JzBpqr0"
      },
      "source": [
        ""
      ],
      "execution_count": null,
      "outputs": []
    }
  ]
}