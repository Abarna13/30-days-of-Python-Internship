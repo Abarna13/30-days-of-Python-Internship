{
 "cells": [
  {
   "cell_type": "markdown",
   "metadata": {},
   "source": [
    "                            PYTHON INTERNSHIP\n",
    "                            \n",
    "                                DAY - 12"
   ]
  },
  {
   "cell_type": "markdown",
   "metadata": {},
   "source": [
    "Python - Json"
   ]
  },
  {
   "cell_type": "markdown",
   "metadata": {},
   "source": [
    "Notes :"
   ]
  },
  {
   "cell_type": "markdown",
   "metadata": {},
   "source": [
    "* Python has a built-in-package called json, which can be used to work with JSON Data"
   ]
  },
  {
   "cell_type": "markdown",
   "metadata": {},
   "source": [
    "               Import json"
   ]
  },
  {
   "cell_type": "markdown",
   "metadata": {},
   "source": [
    "* If you have a json string , you can parse it by using the json loads() method ."
   ]
  },
  {
   "cell_type": "code",
   "execution_count": 1,
   "metadata": {},
   "outputs": [
    {
     "name": "stdout",
     "output_type": "stream",
     "text": [
      "30\n"
     ]
    }
   ],
   "source": [
    "import json\n",
    "\n",
    "# some JSON:\n",
    "x = '{ \"name\":\"John\", \"age\":30, \"city\":\"New York\"}'\n",
    "\n",
    "# parse x:\n",
    "y = json.loads(x)\n",
    "\n",
    "# the result is a Python dictionary:\n",
    "print(y[\"age\"])"
   ]
  },
  {
   "cell_type": "markdown",
   "metadata": {},
   "source": [
    "* If you have a Python object , you can convert it into a JSON String by using the json.dumps() method ."
   ]
  },
  {
   "cell_type": "code",
   "execution_count": 2,
   "metadata": {},
   "outputs": [
    {
     "name": "stdout",
     "output_type": "stream",
     "text": [
      "{\"name\": \"John\", \"age\": 30, \"city\": \"New York\"}\n"
     ]
    }
   ],
   "source": [
    "import json\n",
    "\n",
    "# a Python object (dict):\n",
    "x = {\n",
    "  \"name\": \"John\",\n",
    "  \"age\": 30,\n",
    "  \"city\": \"New York\"\n",
    "}\n",
    "\n",
    "# convert into JSON:\n",
    "y = json.dumps(x)\n",
    "\n",
    "# the result is a JSON string:\n",
    "print(y)"
   ]
  },
  {
   "cell_type": "markdown",
   "metadata": {},
   "source": [
    "You can convert Python objects of the following types, into JSON strings:\n",
    "\n",
    "         * dict\n",
    "         * list\n",
    "         * tuple\n",
    "         * string\n",
    "         * int\n",
    "         * float\n",
    "         * True\n",
    "         * False\n",
    "         * None"
   ]
  },
  {
   "cell_type": "markdown",
   "metadata": {},
   "source": [
    "EXAMPLE"
   ]
  },
  {
   "cell_type": "code",
   "execution_count": 3,
   "metadata": {},
   "outputs": [
    {
     "name": "stdout",
     "output_type": "stream",
     "text": [
      "{\"name\": \"John\", \"age\": 30}\n",
      "[\"apple\", \"bananas\"]\n",
      "[\"apple\", \"bananas\"]\n",
      "\"hello\"\n",
      "42\n",
      "31.76\n",
      "true\n",
      "false\n",
      "null\n"
     ]
    }
   ],
   "source": [
    "import json\n",
    "\n",
    "print(json.dumps({\"name\": \"John\", \"age\": 30}))\n",
    "print(json.dumps([\"apple\", \"bananas\"]))\n",
    "print(json.dumps((\"apple\", \"bananas\")))\n",
    "print(json.dumps(\"hello\"))\n",
    "print(json.dumps(42))\n",
    "print(json.dumps(31.76))\n",
    "print(json.dumps(True))\n",
    "print(json.dumps(False))\n",
    "print(json.dumps(None))"
   ]
  },
  {
   "cell_type": "markdown",
   "metadata": {},
   "source": [
    "* You can also define the separators, default value is (\",\",\":\") , which means using a comma and a space to separate each object and a colon and a space to separate keys from values .\n",
    "\n",
    "* json.dumps (x,indent = 4,separators=(\".\",\"=\"))\n",
    "\n",
    "* The json.dumps() method has parameters to order the key in the result.\n",
    "\n",
    "* json.dumps(x,indent=4,sort_keys=True)."
   ]
  },
  {
   "cell_type": "markdown",
   "metadata": {},
   "source": [
    "EXERCISE :"
   ]
  },
  {
   "cell_type": "markdown",
   "metadata": {},
   "source": [
    "1) Create a JSON of all object types and import the JSON into a SQL Database Note: The JSON file should have valus of all Datatypes ."
   ]
  },
  {
   "cell_type": "markdown",
   "metadata": {},
   "source": [
    "Program.json\n",
    "\n",
    "[\n",
    "\n",
    "[\n",
    "\n",
    "    {\"name\":\"Aparna\", \"age\":19,\"city\":\"chennai\"},\n",
    "    [1,2,3],\n",
    "    [3,2,1],\n",
    "    \"Bangalore\",\n",
    "    35,\n",
    "    35.5,\n",
    "    true,\n",
    "    null]\n",
    "]\n",
    "\n"
   ]
  },
  {
   "cell_type": "code",
   "execution_count": 5,
   "metadata": {},
   "outputs": [],
   "source": [
    "import sqlite3\n",
    "import json"
   ]
  },
  {
   "cell_type": "code",
   "execution_count": 6,
   "metadata": {},
   "outputs": [
    {
     "name": "stdout",
     "output_type": "stream",
     "text": [
      "Database Opened\n"
     ]
    }
   ],
   "source": [
    "con = sqlite3.connect(\"test.db\")\n",
    "print(\"Database Opened\")"
   ]
  },
  {
   "cell_type": "code",
   "execution_count": 7,
   "metadata": {},
   "outputs": [
    {
     "name": "stdout",
     "output_type": "stream",
     "text": [
      "Table created\n"
     ]
    }
   ],
   "source": [
    "cursor = con.cursor()\n",
    "try:\n",
    "    cursor.execute(\"CREATE TABLE MINE\"\n",
    "                   \"(\"\n",
    "                   + \"dictinary BLOB,\"\n",
    "                   + \"list BLOB,\"\n",
    "                   + \"tuple BLOB,\"\n",
    "                   + \"string varchar(50),\"\n",
    "                   + \"Integer INTEGER,\"\n",
    "                   + \"flo FLOAT,\"\n",
    "                   + \"Bool BOOLEAN,\"\n",
    "                   + \"None BLOB\"\n",
    "                     \");\")\n",
    "except Exception as e:\n",
    "    print(\"Error :\", e)\n",
    "else:\n",
    "    print(\"Table created\")"
   ]
  },
  {
   "cell_type": "code",
   "execution_count": 10,
   "metadata": {},
   "outputs": [],
   "source": [
    "datafile = open(\"Program.json\")\n",
    "dataset = json.load(datafile)\n",
    "dataframe = []\n",
    "for row in dataset:\n",
    "    data = (str(row[0]), str(row[1]), str(row[2]), str(row[3]), int(row[4]),\n",
    "            float(row[5]), bool(row[6]), row[7])\n",
    "    dataframe.append(data)"
   ]
  },
  {
   "cell_type": "code",
   "execution_count": 11,
   "metadata": {},
   "outputs": [
    {
     "name": "stdout",
     "output_type": "stream",
     "text": [
      "Data inserted\n"
     ]
    }
   ],
   "source": [
    "try:\n",
    "    cursor.executemany(\"INSERT INTO MINE VALUES (?,?,?,?,?,?,?,?)\", dataframe)\n",
    "except Exception as e:\n",
    "    print(\"Error : \", e)\n",
    "else:\n",
    "    con.commit()\n",
    "    print(\"Data inserted\")\n"
   ]
  },
  {
   "cell_type": "code",
   "execution_count": 12,
   "metadata": {},
   "outputs": [
    {
     "name": "stdout",
     "output_type": "stream",
     "text": [
      "(\"{'name': 'Aparna', 'age': 20, 'city': 'chennai'}\", '[1, 2, 3]', '[3, 2, 1]', 'Bangalore', 35, 35.5, 1, None)\n"
     ]
    }
   ],
   "source": [
    "try:\n",
    "    cursor.execute(\"SELECT * from MINE\")\n",
    "except Exception as e:\n",
    "    print(\"Error : \", e)\n",
    "else:\n",
    "    for row in cursor.fetchall():\n",
    "        print(row)\n"
   ]
  },
  {
   "cell_type": "code",
   "execution_count": 13,
   "metadata": {},
   "outputs": [],
   "source": [
    "con.close()"
   ]
  },
  {
   "cell_type": "code",
   "execution_count": null,
   "metadata": {},
   "outputs": [],
   "source": []
  }
 ],
 "metadata": {
  "kernelspec": {
   "display_name": "Python 3",
   "language": "python",
   "name": "python3"
  },
  "language_info": {
   "codemirror_mode": {
    "name": "ipython",
    "version": 3
   },
   "file_extension": ".py",
   "mimetype": "text/x-python",
   "name": "python",
   "nbconvert_exporter": "python",
   "pygments_lexer": "ipython3",
   "version": "3.7.6"
  }
 },
 "nbformat": 4,
 "nbformat_minor": 4
}
