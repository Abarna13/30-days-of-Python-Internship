{
 "cells": [
  {
   "cell_type": "markdown",
   "metadata": {},
   "source": [
    "PYTHON INTERNSHIP"
   ]
  },
  {
   "cell_type": "markdown",
   "metadata": {},
   "source": [
    "DAY-3"
   ]
  },
  {
   "cell_type": "markdown",
   "metadata": {},
   "source": [
    "1) Python script to merge two Python dictionaries\n",
    "\n"
   ]
  },
  {
   "cell_type": "code",
   "execution_count": 2,
   "metadata": {},
   "outputs": [
    {
     "name": "stdout",
     "output_type": "stream",
     "text": [
      "Updated dictionary 1 :\n",
      "{'Mamtha': 5, 'Kavi': 7, 'Abi': 10, 'Shri': 8, 'Tharu': 20, 'Indhu': 11}\n"
     ]
    },
    {
     "data": {
      "text/plain": [
       "{'Ritika': 5, 'Sam': 20, 'John': 10, 'Aadi': 8, 'Mark': 11}"
      ]
     },
     "execution_count": 2,
     "metadata": {},
     "output_type": "execute_result"
    }
   ],
   "source": [
    "dict1 = {  'Mamtha': 5, 'Kavi': 7, 'Abi' : 10 }\n",
    "dict2 = {'Shri': 8,'Tharu': 20,'Indhu' : 11 }\n",
    "dict1.update(dict2)\n",
    "print('Updated dictionary 1 :')\n",
    "print(dict1)\n",
    "{'Ritika': 5, 'Sam': 20, 'John': 10, 'Aadi': 8, 'Mark': 11}"
   ]
  },
  {
   "cell_type": "markdown",
   "metadata": {},
   "source": [
    "2) Python program to remove a key from a dictionary\n",
    "\n"
   ]
  },
  {
   "cell_type": "code",
   "execution_count": 3,
   "metadata": {},
   "outputs": [
    {
     "name": "stdout",
     "output_type": "stream",
     "text": [
      "Dictionary Items  :   {'name': 'Paramu', 'age': 25, 'job': 'Developer'}\n",
      "Please enter the key that you want to Delete : age\n",
      "\n",
      "Updated Dictionary =  {'name': 'Paramu', 'job': 'Developer'}\n"
     ]
    }
   ],
   "source": [
    "myDict = {'name': 'Paramu', 'age': 25, 'job': 'Developer'}\n",
    "print(\"Dictionary Items  :  \",  myDict)\n",
    "key = input(\"Please enter the key that you want to Delete : \")\n",
    "if key in myDict:\n",
    "    del myDict[key]\n",
    "else:\n",
    "    print(\"Given Key is Not in this Dictionary\")\n",
    "    \n",
    "print(\"\\nUpdated Dictionary = \", myDict)\n"
   ]
  },
  {
   "cell_type": "markdown",
   "metadata": {},
   "source": [
    "3) Python program to map two lists into a dictionary"
   ]
  },
  {
   "cell_type": "code",
   "execution_count": 5,
   "metadata": {},
   "outputs": [
    {
     "name": "stdout",
     "output_type": "stream",
     "text": [
      "Dictionary Items  :   {'name': 'Aishu', 'age': 25, 'job': 'Developer'}\n"
     ]
    }
   ],
   "source": [
    "keys = ['name', 'age', 'job']\n",
    "values = ['Aishu', 25, 'Developer']\n",
    "myDict = {k: v for k, v in zip(keys, values)}\n",
    "print(\"Dictionary Items  :  \",  myDict)"
   ]
  },
  {
   "cell_type": "markdown",
   "metadata": {},
   "source": [
    "4) Write a Python program to find the length of a set"
   ]
  },
  {
   "cell_type": "code",
   "execution_count": 6,
   "metadata": {},
   "outputs": [
    {
     "name": "stdout",
     "output_type": "stream",
     "text": [
      "9\n"
     ]
    }
   ],
   "source": [
    "counter = 0\n",
    "for c in \"educative\": \n",
    "    counter+=1 \n",
    "print (counter)"
   ]
  },
  {
   "cell_type": "markdown",
   "metadata": {},
   "source": [
    "5) Write a Python program to remove the intersection of a 2nd set from the 1st set\n",
    "\n"
   ]
  },
  {
   "cell_type": "code",
   "execution_count": 8,
   "metadata": {},
   "outputs": [
    {
     "name": "stdout",
     "output_type": "stream",
     "text": [
      "Original sets:\n",
      "{1, 2, 3, 4, 5}\n",
      "{4, 5, 6, 7, 8}\n",
      "Remove the intersection of a 2nd set from the 1st set:\n",
      "{1, 2, 3}\n"
     ]
    }
   ],
   "source": [
    "sn1 = {1,2,3,4,5}\n",
    "sn2 = {4,5,6,7,8}\n",
    "print(\"Original sets:\")\n",
    "print(sn1)\n",
    "print(sn2)\n",
    "sn1 = {1,2,3,4,5}\n",
    "sn2 = {4,5,6,7,8}\n",
    "print(\"Remove the intersection of a 2nd set from the 1st set:\")\n",
    "print(sn1-sn2)\n"
   ]
  }
 ],
 "metadata": {
  "kernelspec": {
   "display_name": "Python 3",
   "language": "python",
   "name": "python3"
  },
  "language_info": {
   "codemirror_mode": {
    "name": "ipython",
    "version": 3
   },
   "file_extension": ".py",
   "mimetype": "text/x-python",
   "name": "python",
   "nbconvert_exporter": "python",
   "pygments_lexer": "ipython3",
   "version": "3.7.6"
  }
 },
 "nbformat": 4,
 "nbformat_minor": 4
}
