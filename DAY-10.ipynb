{
 "cells": [
  {
   "cell_type": "markdown",
   "metadata": {},
   "source": [
    "                                 PYTHON INTERNSHIP\n",
    "    \n",
    "                                     DAY - 10"
   ]
  },
  {
   "cell_type": "markdown",
   "metadata": {},
   "source": [
    "EXERCISE : "
   ]
  },
  {
   "cell_type": "markdown",
   "metadata": {},
   "source": [
    "1) Write a Python program for all the cases which can check a string contains only a certain set of characters (in this case a-z, A-Z and 0-9)."
   ]
  },
  {
   "cell_type": "code",
   "execution_count": 2,
   "metadata": {},
   "outputs": [
    {
     "name": "stdout",
     "output_type": "stream",
     "text": [
      "AWb1311\n",
      "True\n"
     ]
    }
   ],
   "source": [
    "import re\n",
    "string = input()\n",
    "pattern = re.compile(\"[A-Za-z0-9]+\")\n",
    "if pattern.fullmatch(string):\n",
    "  print(\"True\")\n",
    "else:\n",
    "  print(\"False\")\n"
   ]
  },
  {
   "cell_type": "markdown",
   "metadata": {},
   "source": [
    "2) Write a Python program that matches a word containing 'ab'."
   ]
  },
  {
   "cell_type": "code",
   "execution_count": 3,
   "metadata": {},
   "outputs": [
    {
     "name": "stdout",
     "output_type": "stream",
     "text": [
      "awbaihbcwwbb\n",
      "not found\n"
     ]
    }
   ],
   "source": [
    "pattern = 'ab'\n",
    "text = input()\n",
    "if re.search(pattern,text):\n",
    "    print('match found')\n",
    "else:\n",
    "    print('not found')\n"
   ]
  },
  {
   "cell_type": "markdown",
   "metadata": {},
   "source": [
    "3)Write a Python program to check for a number at the end of a word/sentence."
   ]
  },
  {
   "cell_type": "code",
   "execution_count": 4,
   "metadata": {},
   "outputs": [
    {
     "name": "stdout",
     "output_type": "stream",
     "text": [
      "sfgr009823\n",
      "True\n"
     ]
    }
   ],
   "source": [
    "string = input()\n",
    "r=re.compile(r\".*[0-9]$\")\n",
    "if r.match(string):\n",
    "  print(\"True\")\n",
    "else:\n",
    "  print(\"False\")\n"
   ]
  },
  {
   "cell_type": "markdown",
   "metadata": {},
   "source": [
    "4)Write a Python program to search the numbers (0-9) of length between 1 to 3 in a given string"
   ]
  },
  {
   "cell_type": "code",
   "execution_count": 5,
   "metadata": {},
   "outputs": [
    {
     "name": "stdout",
     "output_type": "stream",
     "text": [
      "Numbers with length 1 to 3 in the string : \n",
      "4\n",
      "21\n",
      "567\n"
     ]
    }
   ],
   "source": [
    "pattern=r\"([0-9]{1,3})\"\n",
    "t = \"4,21,and 567 are important questions\"\n",
    "s = re.finditer(pattern,t)\n",
    "print(\"Numbers with length 1 to 3 in the string : \")\n",
    "for n in s:\n",
    "  print(n.group(0))\n"
   ]
  },
  {
   "cell_type": "markdown",
   "metadata": {},
   "source": [
    "5)Write a Python program to match a string that contains only uppercase letters"
   ]
  },
  {
   "cell_type": "code",
   "execution_count": 6,
   "metadata": {},
   "outputs": [
    {
     "name": "stdout",
     "output_type": "stream",
     "text": [
      "AWB\n",
      "String contains only uppercase letters\n"
     ]
    }
   ],
   "source": [
    "import re\n",
    "reg = r'^[A-Z]*$'\n",
    "s = input()\n",
    "if re.search(reg,s): \n",
    "  print('String contains only uppercase letters')\n",
    "else:\n",
    "  print('String does not contains only uppercase letters')\n"
   ]
  },
  {
   "cell_type": "code",
   "execution_count": null,
   "metadata": {},
   "outputs": [],
   "source": []
  }
 ],
 "metadata": {
  "kernelspec": {
   "display_name": "Python 3",
   "language": "python",
   "name": "python3"
  },
  "language_info": {
   "codemirror_mode": {
    "name": "ipython",
    "version": 3
   },
   "file_extension": ".py",
   "mimetype": "text/x-python",
   "name": "python",
   "nbconvert_exporter": "python",
   "pygments_lexer": "ipython3",
   "version": "3.7.6"
  }
 },
 "nbformat": 4,
 "nbformat_minor": 4
}
