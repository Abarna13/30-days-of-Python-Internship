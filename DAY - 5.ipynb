{
 "cells": [
  {
   "cell_type": "markdown",
   "metadata": {},
   "source": [
    "                              PYTHON INTERNSHIP\n",
    "                             \n",
    "                                DAY - 5"
   ]
  },
  {
   "cell_type": "markdown",
   "metadata": {},
   "source": [
    "FUNCTIONS"
   ]
  },
  {
   "cell_type": "code",
   "execution_count": 5,
   "metadata": {},
   "outputs": [
    {
     "name": "stdout",
     "output_type": "stream",
     "text": [
      "[20, 2, 3, 4, 5, 6]\n"
     ]
    }
   ],
   "source": [
    "def myFunc(num):\n",
    "    num[0] = 20\n",
    "list = [1,2,3,4,5,6]\n",
    "myFunc(list)\n",
    "print(list)"
   ]
  },
  {
   "cell_type": "code",
   "execution_count": 24,
   "metadata": {},
   "outputs": [
    {
     "name": "stdout",
     "output_type": "stream",
     "text": [
      "Hello from a function\n",
      "None\n"
     ]
    }
   ],
   "source": [
    "def my_function(): #Calling a function\n",
    "    print(\"Hello from a function\")\n",
    "print(my_function())"
   ]
  },
  {
   "cell_type": "code",
   "execution_count": 9,
   "metadata": {},
   "outputs": [],
   "source": [
    "def csk(fname):\n",
    "    print(\"Player name is \" + fname)"
   ]
  },
  {
   "cell_type": "code",
   "execution_count": 10,
   "metadata": {},
   "outputs": [
    {
     "name": "stdout",
     "output_type": "stream",
     "text": [
      "Player name is Dhoni\n",
      "Player name is Raina\n",
      "Player name is Sam\n"
     ]
    }
   ],
   "source": [
    "csk(\"Dhoni\")\n",
    "csk(\"Raina\")\n",
    "csk(\"Sam\")"
   ]
  },
  {
   "cell_type": "code",
   "execution_count": 11,
   "metadata": {},
   "outputs": [
    {
     "name": "stdout",
     "output_type": "stream",
     "text": [
      "DhoniVSKohli\n"
     ]
    }
   ],
   "source": [
    "def ipl(csk_cap,rcb_cap):\n",
    "    print(csk_cap + \"VS\" + rcb_cap)\n",
    "ipl(\"Dhoni\",\"Kohli\")"
   ]
  },
  {
   "cell_type": "code",
   "execution_count": 12,
   "metadata": {},
   "outputs": [
    {
     "name": "stdout",
     "output_type": "stream",
     "text": [
      "The youngest member is Shri\n"
     ]
    }
   ],
   "source": [
    "def my_function(*team):\n",
    "    print(\"The youngest member is \" + team[0])\n",
    "my_function(\"Shri\",\"Abi\",\"Moni\")"
   ]
  },
  {
   "cell_type": "code",
   "execution_count": 13,
   "metadata": {},
   "outputs": [
    {
     "name": "stdout",
     "output_type": "stream",
     "text": [
      "The youngest girl is Paramu\n"
     ]
    }
   ],
   "source": [
    "def my_function(child3,child2,child1):\n",
    "    print(\"The youngest girl is \" + child2)\n",
    "my_function(child1 = \"Indhu\",child2 = \"Paramu\",child3 = \"Tharani\")"
   ]
  },
  {
   "cell_type": "code",
   "execution_count": 15,
   "metadata": {},
   "outputs": [
    {
     "name": "stdout",
     "output_type": "stream",
     "text": [
      "His last palyer is Sam currain\n"
     ]
    }
   ],
   "source": [
    "def my_function(**players):\n",
    "    print(\"His last palyer is \" + players[\"fplayer\"])\n",
    "my_function(fplayer = \"Sam currain\",Iplayer = \"Raina\")"
   ]
  },
  {
   "cell_type": "code",
   "execution_count": 17,
   "metadata": {},
   "outputs": [
    {
     "name": "stdout",
     "output_type": "stream",
     "text": [
      "10\n"
     ]
    }
   ],
   "source": [
    "def my_function(x):\n",
    "    return 5*x\n",
    "print(my_function(2))"
   ]
  },
  {
   "cell_type": "markdown",
   "metadata": {},
   "source": [
    "Passing a default value while initiation"
   ]
  },
  {
   "cell_type": "code",
   "execution_count": 18,
   "metadata": {},
   "outputs": [
    {
     "name": "stdout",
     "output_type": "stream",
     "text": [
      "Captain for CSK is Dhoni\n"
     ]
    }
   ],
   "source": [
    "def csk(fname = \"Dhoni\"):\n",
    "    print(\"Captain for CSK is \" + fname)\n",
    "csk()"
   ]
  },
  {
   "cell_type": "markdown",
   "metadata": {},
   "source": [
    "EXERCISE:"
   ]
  },
  {
   "cell_type": "markdown",
   "metadata": {},
   "source": [
    "1)Create a function getting two integer inputs from user.& print the following:\n",
    "\n",
    "Addition of two numbers is +value\n",
    "\n",
    "Subtraction of two numbers is +value\n",
    "\n",
    "Division of two numbers is +value\n",
    "\n",
    "Multiplication of two numbers is +value\n",
    "\n",
    "Here the value represents math function associated"
   ]
  },
  {
   "cell_type": "code",
   "execution_count": 19,
   "metadata": {},
   "outputs": [
    {
     "name": "stdout",
     "output_type": "stream",
     "text": [
      "Enter number 1 : 13\n",
      "Enter number 2 : 10\n",
      "Addition of two numbers is :  23\n",
      "Subtraction of two numbers is :  3\n",
      "Multiplication of two numbers is :  130\n",
      "Division of two numbers is :  1.3\n"
     ]
    }
   ],
   "source": [
    "def function(a,b):\n",
    "  print(\"Addition of two numbers is : \",a+b)\n",
    "  print(\"Subtraction of two numbers is : \" ,a-b)\n",
    "  print(\"Multiplication of two numbers is : \",a*b)\n",
    "  print(\"Division of two numbers is : \",a/b)\n",
    "a=int(input(\"Enter number 1 : \"))\n",
    "b=int(input(\"Enter number 2 : \"))\n",
    "function(a,b)"
   ]
  },
  {
   "cell_type": "markdown",
   "metadata": {},
   "source": [
    "2.Create a function covid( ) & it should accept patient name, and body temperature, by default the body temperature should be 98 degree"
   ]
  },
  {
   "cell_type": "code",
   "execution_count": 21,
   "metadata": {},
   "outputs": [
    {
     "name": "stdout",
     "output_type": "stream",
     "text": [
      "Patient name :  Abi\n",
      "Body temperature :  99\n",
      "Patient name :  Kavi\n",
      "Body temperature :  98\n"
     ]
    }
   ],
   "source": [
    "def covid(name,temp=98):\n",
    "  print(\"Patient name : \",name)\n",
    "  print(\"Body temperature : \",temp)\n",
    "covid(\"Abi\",99)\n",
    "covid(\"Kavi\")\n"
   ]
  }
 ],
 "metadata": {
  "kernelspec": {
   "display_name": "Python 3",
   "language": "python",
   "name": "python3"
  },
  "language_info": {
   "codemirror_mode": {
    "name": "ipython",
    "version": 3
   },
   "file_extension": ".py",
   "mimetype": "text/x-python",
   "name": "python",
   "nbconvert_exporter": "python",
   "pygments_lexer": "ipython3",
   "version": "3.7.6"
  }
 },
 "nbformat": 4,
 "nbformat_minor": 4
}
