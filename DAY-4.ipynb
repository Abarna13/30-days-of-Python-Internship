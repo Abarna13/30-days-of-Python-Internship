{
 "cells": [
  {
   "cell_type": "markdown",
   "metadata": {},
   "source": [
    "Write a program to create a list of n integer values and do the following\n",
    "\n",
    "Add an item in to the list (using function)\n",
    "\n",
    "Delete (using function)\n",
    "\n",
    "Store the largest number from the list to a variable\n",
    "\n",
    "Store the Smallest number from the list to a variable\n",
    "\n"
   ]
  },
  {
   "cell_type": "code",
   "execution_count": 1,
   "metadata": {},
   "outputs": [
    {
     "name": "stdout",
     "output_type": "stream",
     "text": [
      "Enter number of elements : 4\n",
      "Enter list elements : \n",
      "5\n",
      "8\n",
      "9\n",
      "0\n",
      "[5, 8, 9, 0]\n"
     ]
    }
   ],
   "source": [
    "list1 = []\n",
    "n = int(input(\"Enter number of elements : \"));\n",
    "print(\"Enter list elements : \");\n",
    "for i in range (0,n):\n",
    "  ele = int(input())\n",
    "  list1.append(ele)\n",
    "print(list1)\n"
   ]
  },
  {
   "cell_type": "code",
   "execution_count": 2,
   "metadata": {},
   "outputs": [
    {
     "name": "stdout",
     "output_type": "stream",
     "text": [
      "Enter element to add : \n",
      "7\n",
      "List after adding element :  [5, 8, 9, 0, 7]\n"
     ]
    }
   ],
   "source": [
    "print(\"Enter element to add : \");\n",
    "ele = int(input())\n",
    "list1.append(ele)\n",
    "print(\"List after adding element : \",list1)"
   ]
  },
  {
   "cell_type": "code",
   "execution_count": 3,
   "metadata": {},
   "outputs": [
    {
     "name": "stdout",
     "output_type": "stream",
     "text": [
      "Enter element to insert : 3\n",
      "Enter the position you want to add the element : 3\n",
      "List after adding element :  [5, 8, 9, 3, 0, 7]\n"
     ]
    }
   ],
   "source": [
    "ele = int(input(\"Enter element to insert : \"))\n",
    "pos = int(input(\"Enter the position you want to add the element : \"))\n",
    "list1.insert(pos,ele)\n",
    "print(\"List after adding element : \",list1)\n"
   ]
  },
  {
   "cell_type": "code",
   "execution_count": 4,
   "metadata": {},
   "outputs": [
    {
     "name": "stdout",
     "output_type": "stream",
     "text": [
      "Enter the position of the element to delete : 1\n",
      "List after deletion:  [5, 9, 3, 0, 7]\n"
     ]
    }
   ],
   "source": [
    "i = int(input(\"Enter the position of the element to delete : \"))\n",
    "del list1[i]\n",
    "print(\"List after deletion: \",list1)\n"
   ]
  },
  {
   "cell_type": "code",
   "execution_count": 5,
   "metadata": {},
   "outputs": [
    {
     "name": "stdout",
     "output_type": "stream",
     "text": [
      "The largest element is :  9\n"
     ]
    }
   ],
   "source": [
    "largest = max(list1)\n",
    "print(\"The largest element is : \",largest)"
   ]
  },
  {
   "cell_type": "code",
   "execution_count": 6,
   "metadata": {},
   "outputs": [
    {
     "name": "stdout",
     "output_type": "stream",
     "text": [
      "The smallest element is :  0\n"
     ]
    }
   ],
   "source": [
    "smallest = min(list1)\n",
    "print(\"The smallest element is : \",smallest)\n"
   ]
  },
  {
   "cell_type": "markdown",
   "metadata": {},
   "source": [
    "2) Create a tuple and print the reverse of the created tuple\n",
    "\n"
   ]
  },
  {
   "cell_type": "code",
   "execution_count": 8,
   "metadata": {},
   "outputs": [
    {
     "name": "stdout",
     "output_type": "stream",
     "text": [
      "Enter number of elements : 4\n",
      "Enter tuple elements : \n",
      "2\n",
      "4\n",
      "6\n",
      "8\n",
      "()\n"
     ]
    }
   ],
   "source": [
    "tup = []\n",
    "n = int(input(\"Enter number of elements : \"))\n",
    "print(\"Enter tuple elements : \")\n",
    "for i in range (0,n):\n",
    "  ele = int(input())\n",
    "  tup.append(ele)\n",
    "print(tuple())\n"
   ]
  },
  {
   "cell_type": "code",
   "execution_count": 10,
   "metadata": {},
   "outputs": [
    {
     "data": {
      "text/plain": [
       "[8, 6, 4, 2]"
      ]
     },
     "execution_count": 10,
     "metadata": {},
     "output_type": "execute_result"
    }
   ],
   "source": [
    "tup[::-1]\n"
   ]
  },
  {
   "cell_type": "code",
   "execution_count": 11,
   "metadata": {},
   "outputs": [
    {
     "name": "stdout",
     "output_type": "stream",
     "text": [
      "(8, 6, 4, 2)\n"
     ]
    }
   ],
   "source": [
    "tup2 = reversed(tup)\n",
    "print(tuple(tup2))\n"
   ]
  },
  {
   "cell_type": "markdown",
   "metadata": {},
   "source": [
    "3) Create a tuple and convert tuple into list\n",
    "\n"
   ]
  },
  {
   "cell_type": "code",
   "execution_count": 12,
   "metadata": {},
   "outputs": [
    {
     "name": "stdout",
     "output_type": "stream",
     "text": [
      "['Abi', 'Pandian', 1, 2]\n"
     ]
    }
   ],
   "source": [
    "tup = (\"Abi\", \"Pandian\", 1, 2)\n",
    "print(list(tup))"
   ]
  }
 ],
 "metadata": {
  "kernelspec": {
   "display_name": "Python 3",
   "language": "python",
   "name": "python3"
  },
  "language_info": {
   "codemirror_mode": {
    "name": "ipython",
    "version": 3
   },
   "file_extension": ".py",
   "mimetype": "text/x-python",
   "name": "python",
   "nbconvert_exporter": "python",
   "pygments_lexer": "ipython3",
   "version": "3.7.6"
  }
 },
 "nbformat": 4,
 "nbformat_minor": 4
}
