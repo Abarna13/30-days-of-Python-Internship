{
 "cells": [
  {
   "cell_type": "markdown",
   "metadata": {},
   "source": [
    "NOTES :\n",
    "\n",
    "Map() function :"
   ]
  },
  {
   "cell_type": "markdown",
   "metadata": {},
   "source": [
    "map() function returns a map object (which is an iterator) of the results after applying the given function to each item of a given iterable (list,tuple,etc).\n",
    "\n",
    "                    map(fun,iter)"
   ]
  },
  {
   "cell_type": "raw",
   "metadata": {},
   "source": [
    "* It is a function to which map passes each element of given iterable.\n",
    "  iter : It is iterable which is to be mapped."
   ]
  },
  {
   "cell_type": "code",
   "execution_count": 2,
   "metadata": {},
   "outputs": [
    {
     "name": "stdout",
     "output_type": "stream",
     "text": [
      "[2, 4, 6, 8]\n"
     ]
    }
   ],
   "source": [
    "def addition(n):\n",
    "    return n + n\n",
    "numbers = (1,2,3,4)\n",
    "result = map(addition,numbers)\n",
    "print(list(result))"
   ]
  },
  {
   "cell_type": "markdown",
   "metadata": {},
   "source": [
    "Map using list of strings :"
   ]
  },
  {
   "cell_type": "code",
   "execution_count": 3,
   "metadata": {},
   "outputs": [
    {
     "name": "stdout",
     "output_type": "stream",
     "text": [
      "[['s', 'a', 't'], ['b', 'a', 't'], ['c', 'a', 't'], ['m', 'a', 't']]\n"
     ]
    }
   ],
   "source": [
    "#list of strings\n",
    "I = ['sat','bat','cat','mat']\n",
    "\n",
    "#map() can listify the list of strings individually\n",
    "\n",
    "test = list(map(list,I))\n",
    "print(test)\n"
   ]
  },
  {
   "cell_type": "markdown",
   "metadata": {},
   "source": [
    "Filter() method :"
   ]
  },
  {
   "cell_type": "markdown",
   "metadata": {},
   "source": [
    "Filter() method filters the given sequence with a help of a function that tests each element in the sequence to be true or not ."
   ]
  },
  {
   "cell_type": "code",
   "execution_count": 15,
   "metadata": {},
   "outputs": [
    {
     "name": "stdout",
     "output_type": "stream",
     "text": [
      "The filtered vowels are:\n",
      "a\n",
      "e\n",
      "i\n",
      "o\n"
     ]
    }
   ],
   "source": [
    "# list of letters\n",
    "letters = ['a', 'b', 'd', 'e', 'i', 'j', 'o']\n",
    "\n",
    "# function that filters vowels\n",
    "def filterVowels(letter):\n",
    "    vowels = ['a', 'e', 'i', 'o', 'u']\n",
    "\n",
    "    if(letter in vowels):\n",
    "        return True\n",
    "    else:\n",
    "        return False\n",
    "\n",
    "filteredVowels = filter(filterVowels, letters)\n",
    "\n",
    "print('The filtered vowels are:')\n",
    "for vowel in filteredVowels:\n",
    "    print(vowel)\n"
   ]
  },
  {
   "cell_type": "code",
   "execution_count": 11,
   "metadata": {},
   "outputs": [
    {
     "name": "stdout",
     "output_type": "stream",
     "text": [
      "e\n",
      "e\n"
     ]
    }
   ],
   "source": [
    "#sequence\n",
    "\n",
    "sequence = ['g','e','e','j','k','s','p','r']\n",
    "\n",
    "#using filter function\n",
    "filtered = filter(fun, sequence)\n",
    "for s in filtered:\n",
    "    print(s)"
   ]
  },
  {
   "cell_type": "markdown",
   "metadata": {},
   "source": [
    "zip() function :"
   ]
  },
  {
   "cell_type": "markdown",
   "metadata": {},
   "source": [
    "zip() function returns a zip object , which is an iterator of tuples where the first item in each passed iterator is paired together , and then the second item in each passed iterator are paired together. "
   ]
  },
  {
   "cell_type": "code",
   "execution_count": 14,
   "metadata": {},
   "outputs": [
    {
     "name": "stdout",
     "output_type": "stream",
     "text": [
      "(('John', 'Jenny'), ('Charles', 'Christy'), ('Mike', 'Monica'))\n"
     ]
    }
   ],
   "source": [
    "a = (\"John\",\"Charles\",\"Mike\")\n",
    "b = (\"Jenny\",\"Christy\",\"Monica\")\n",
    "x = zip(a, b)\n",
    "print(tuple(x))"
   ]
  },
  {
   "cell_type": "markdown",
   "metadata": {},
   "source": [
    "Reduce() function :"
   ]
  },
  {
   "cell_type": "markdown",
   "metadata": {},
   "source": [
    "The reduce(fun,seq) function is used to apply a particular function passed in its argument to all the list elements mentioned in the sequence passed along. This function is defined in \"funtools\" module ."
   ]
  },
  {
   "cell_type": "code",
   "execution_count": 17,
   "metadata": {},
   "outputs": [
    {
     "name": "stdout",
     "output_type": "stream",
     "text": [
      "The sum of the list elements is : 17\n",
      "The maximum element of the list is : 6\n"
     ]
    }
   ],
   "source": [
    "import functools\n",
    "lis = [1,3,5,6,2,]\n",
    "print(\"The sum of the list elements is : \",end =\"\")\n",
    "print(functools.reduce(lambda a,b : a+b,lis))\n",
    "print(\"The maximum element of the list is : \",end=\"\")\n",
    "print(functools.reduce(lambda a,b: a if a > b else b,lis))"
   ]
  },
  {
   "cell_type": "markdown",
   "metadata": {},
   "source": [
    "EXERCISE :"
   ]
  },
  {
   "cell_type": "markdown",
   "metadata": {},
   "source": [
    "1) Write a program using zip() function and list() function, create a merged list of tuples from the two lists given"
   ]
  },
  {
   "cell_type": "code",
   "execution_count": 19,
   "metadata": {},
   "outputs": [
    {
     "name": "stdout",
     "output_type": "stream",
     "text": [
      "List 1 : 7 8 9 12\n",
      "List 2 : 11 13 10 30\n",
      "Merged list of tuples :  [(7, 11), (8, 13), (9, 10), (12, 30)]\n"
     ]
    }
   ],
   "source": [
    "lst1 = list(map(int,input(\"List 1 : \").strip().split()))\n",
    "lst2 = list(map(int,input(\"List 2 : \").strip().split()))\n",
    "new_list = list(zip(lst1,lst2))\n",
    "print(\"Merged list of tuples : \",new_list)"
   ]
  },
  {
   "cell_type": "markdown",
   "metadata": {},
   "source": [
    "2) First create a range from 1 to 8. Then using zip, merge the given list and the range together to create a new list of tuples.\n"
   ]
  },
  {
   "cell_type": "code",
   "execution_count": 20,
   "metadata": {},
   "outputs": [
    {
     "name": "stdout",
     "output_type": "stream",
     "text": [
      "List : t g b n a j l k s w q i o r f d \n",
      "[(1, 't'), (2, 'g'), (3, 'b'), (4, 'n'), (5, 'a'), (6, 'j'), (7, 'l'), (8, 'k')]\n"
     ]
    }
   ],
   "source": [
    "ran = list(range(1,9))\n",
    "lst = list(map(str,input(\"List : \").strip().split()))\n",
    "new_lst = list(zip(ran,lst))\n",
    "print(new_lst)\n"
   ]
  },
  {
   "cell_type": "markdown",
   "metadata": {},
   "source": [
    "3) Using sorted() function, sort the list in ascending order.\n"
   ]
  },
  {
   "cell_type": "code",
   "execution_count": 21,
   "metadata": {},
   "outputs": [
    {
     "name": "stdout",
     "output_type": "stream",
     "text": [
      "Enter the Unsorted List : 13 1 0 3 4 7 8 9 23 56 78 90 100\n",
      "The Sorted list is :  [0, 1, 3, 4, 7, 8, 9, 13, 23, 56, 78, 90, 100]\n"
     ]
    }
   ],
   "source": [
    "unsorted_list = list(map(int,input(\"Enter the Unsorted List : \").strip().split()))\n",
    "sorted_list = sorted(unsorted_list)\n",
    "print(\"The Sorted list is : \",sorted_list)\n"
   ]
  },
  {
   "cell_type": "markdown",
   "metadata": {},
   "source": [
    "4) Write a program using filter function, filter the even numbers so that only odd numbers are passed to the new list."
   ]
  },
  {
   "cell_type": "code",
   "execution_count": 22,
   "metadata": {},
   "outputs": [
    {
     "name": "stdout",
     "output_type": "stream",
     "text": [
      "List : 12 4 5 67 8 9 3 2 11\n",
      "List after filtering even numbers :  [5, 67, 9, 3, 11]\n"
     ]
    }
   ],
   "source": [
    "l = list(map(int,input(\"List : \").strip().split()))\n",
    "lst = list(filter(lambda x: x%2!=0,l))\n",
    "print(\"List after filtering even numbers : \",lst)\n"
   ]
  }
 ],
 "metadata": {
  "kernelspec": {
   "display_name": "Python 3",
   "language": "python",
   "name": "python3"
  },
  "language_info": {
   "codemirror_mode": {
    "name": "ipython",
    "version": 3
   },
   "file_extension": ".py",
   "mimetype": "text/x-python",
   "name": "python",
   "nbconvert_exporter": "python",
   "pygments_lexer": "ipython3",
   "version": "3.7.6"
  }
 },
 "nbformat": 4,
 "nbformat_minor": 4
}
