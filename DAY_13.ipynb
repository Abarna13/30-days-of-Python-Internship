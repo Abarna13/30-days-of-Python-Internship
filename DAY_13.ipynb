{
  "nbformat": 4,
  "nbformat_minor": 0,
  "metadata": {
    "colab": {
      "name": "DAY-13.ipynb",
      "provenance": [],
      "collapsed_sections": [],
      "authorship_tag": "ABX9TyORaQupMiSSkwDeLJ13l1V2",
      "include_colab_link": true
    },
    "kernelspec": {
      "name": "python3",
      "display_name": "Python 3"
    }
  },
  "cells": [
    {
      "cell_type": "markdown",
      "metadata": {
        "id": "view-in-github",
        "colab_type": "text"
      },
      "source": [
        "<a href=\"https://colab.research.google.com/github/Abarna13/30-days-of-Python-Internship/blob/main/DAY_13.ipynb\" target=\"_parent\"><img src=\"https://colab.research.google.com/assets/colab-badge.svg\" alt=\"Open In Colab\"/></a>"
      ]
    },
    {
      "cell_type": "code",
      "metadata": {
        "colab": {
          "base_uri": "https://localhost:8080/"
        },
        "id": "ZJA6_C5_A0Hv",
        "outputId": "e7e12e21-7c3c-40f5-cdd3-5b17f17f9542"
      },
      "source": [
        "class Cafetaria:\n",
        "\n",
        "    def __init__(self, water, milk, coffee, money):\n",
        "        self.water = water\n",
        "        self.milk = milk\n",
        "        self.coffee = coffee\n",
        "        self.money = money\n",
        "        self.start()\n",
        "    \n",
        "    def start(self):\n",
        "      self.choice = input(\"What do you want to buy? Cafe Mocha / Frappe / Americano : \\n\")\n",
        "      if self.choice == 'Cafe Mocha':\n",
        "        self.reduced = [200, 150, 24, 2.5] # water, milk, coffee, money\n",
        "        if self.resource():   \n",
        "          self.pay_money()\n",
        "          self.menu()\n",
        "\n",
        "      elif self.choice == 'Frappe':\n",
        "        self.reduced = [200, 150, 30, 3.5]\n",
        "        if self.resource():\n",
        "          self.pay_money()\n",
        "          self.menu()\n",
        "\n",
        "      elif self.choice == \"Americano\":\n",
        "        self.reduced = [150, 250, 24, 4.5]\n",
        "        if self.resource():\n",
        "          self.pay_money() \n",
        "          self.menu()\n",
        "\n",
        "      elif self.choice == \"report\":\n",
        "        print(f\"\\nThe coffee machine has: \")\n",
        "        print(f\"Water : {self.water} ml\")\n",
        "        print(f\"Milk : {self.milk} ml\")\n",
        "        print(f\"Coffee : {self.coffee} g\")\n",
        "        print(f\"Money : ${self.money} \")\n",
        "        self.menu()\n",
        "\n",
        "      elif self.choice == \"off\":\n",
        "        return 0\n",
        "\n",
        "    def menu(self): # returns to the menu \n",
        "        print()\n",
        "        self.start()\n",
        "\n",
        "    def resource(self): # checks if enough resourse is there to make coffee\n",
        "        self.not_available = \"\" \n",
        "        if self.water - self.reduced[0] < 0:\n",
        "            self.not_available = \"water\"\n",
        "        elif self.milk - self.reduced[1] < 0:\n",
        "            self.not_available = \"milk\"\n",
        "        elif self.coffee - self.reduced[2] < 0:\n",
        "            self.not_available = \"coffee\"\n",
        "        \n",
        "        if self.not_available != \"\": \n",
        "            print(f\"Sorry, not enough {self.not_available}!\")\n",
        "            return False\n",
        "        else: # if everything is enough to make the coffee\n",
        "            print(\"Please insert the coins : \")\n",
        "            return True\n",
        "\n",
        "    def deduct_resource(self):\n",
        "        self.water -= self.reduced[0]\n",
        "        self.milk -= self.reduced[1]\n",
        "        self.coffee -= self.reduced[2]\n",
        "        self.money += self.reduced[3]\n",
        "\n",
        "    def pay_money(self):\n",
        "      self.q = int(input(\"Quarters : \"))\n",
        "      self.d = int(input(\"Dimes : \"))\n",
        "      self.n = int(input(\"nickles : \"))\n",
        "      self.p = int(input(\"pennies : \"))\n",
        "      self.t = (self.q*0.25) + (self.d*0.10) + (self.n*0.05) + (self.p*0.01) \n",
        "      #quarters = $0.25, dimes = $0.10, nickles = $0.05, pennies = $0.01\n",
        "      if (self.t == 2.5):\n",
        "        print(\"Here is your \" + self.choice + \" Enjoy! \")\n",
        "        self.deduct_resource()\n",
        "      elif (self.t > 2.5):\n",
        "        self.b = self.t - 2.5\n",
        "        print(\"Here is your \" + self.choice + \" Enjoy! \")\n",
        "        print(\"Here is {:.2f} dollars in change\".format(self.b))\n",
        "        self.deduct_resource()\n",
        "      elif (self.t < 2.5):\n",
        "        print(\"Sorry that's not the enough money\")\n",
        "\n",
        "Cafetaria(500, 350, 100, 0)\n"
      ],
      "execution_count": 4,
      "outputs": [
        {
          "output_type": "stream",
          "text": [
            "What do you want to buy? Cafe Mocha / Frappe / Americano : \n",
            "Frappe\n",
            "Please insert the coins : \n",
            "Quarters : 69\n",
            "Dimes : 7\n",
            "nickles : 9\n",
            "pennies : 5\n",
            "Here is your Frappe Enjoy! \n",
            "Here is 15.95 dollars in change\n",
            "\n",
            "What do you want to buy? Cafe Mocha / Frappe / Americano : \n",
            "Cafe Mocha\n",
            "Please insert the coins : \n",
            "Quarters : 89\n",
            "Dimes : 6\n",
            "nickles : 8\n",
            "pennies : 4\n",
            "Here is your Cafe Mocha Enjoy! \n",
            "Here is 20.79 dollars in change\n",
            "\n",
            "What do you want to buy? Cafe Mocha / Frappe / Americano : \n",
            "Americano\n",
            "Sorry, not enough water!\n"
          ],
          "name": "stdout"
        },
        {
          "output_type": "execute_result",
          "data": {
            "text/plain": [
              "<__main__.Cafetaria at 0x7f8009207438>"
            ]
          },
          "metadata": {
            "tags": []
          },
          "execution_count": 4
        }
      ]
    }
  ]
}