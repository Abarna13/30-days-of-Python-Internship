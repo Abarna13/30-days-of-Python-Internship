{
 "cells": [
  {
   "cell_type": "markdown",
   "metadata": {},
   "source": [
    "                            PYTHON INTERNSHIP\n",
    "                            \n",
    "                            DAY - 6"
   ]
  },
  {
   "cell_type": "markdown",
   "metadata": {},
   "source": [
    "1) Write a program to loop through a list of numbers and add +2 to every value to elements in list"
   ]
  },
  {
   "cell_type": "code",
   "execution_count": 1,
   "metadata": {},
   "outputs": [
    {
     "name": "stdout",
     "output_type": "stream",
     "text": [
      "Enter the number of list elements : 4\n",
      "Enter list elements : \n",
      "3\n",
      "8\n",
      "6\n",
      "1\n",
      "List elements :  [3, 8, 6, 1]\n",
      "List after adding 2 : [5, 10, 8, 3]\n"
     ]
    }
   ],
   "source": [
    "lst = []\n",
    "n = int(input(\"Enter the number of list elements : \"))\n",
    "print(\"Enter list elements : \")\n",
    "for i in range (0,n):\n",
    "  ele = int(input())\n",
    "  lst.append(ele)\n",
    "print(\"List elements : \",lst)\n",
    "res = [ x+2 for x in lst ]\n",
    "print(\"List after adding 2 :\",res)"
   ]
  },
  {
   "cell_type": "markdown",
   "metadata": {},
   "source": [
    "2)Write a program to get the below pattern\n",
    "\n",
    "54321\n",
    "\n",
    "4321\n",
    "\n",
    "321\n",
    "\n",
    "21\n",
    "\n",
    "1"
   ]
  },
  {
   "cell_type": "code",
   "execution_count": 2,
   "metadata": {},
   "outputs": [
    {
     "name": "stdout",
     "output_type": "stream",
     "text": [
      "54321\n",
      "4321\n",
      "321\n",
      "21\n",
      "1\n"
     ]
    }
   ],
   "source": [
    "n = 5\n",
    "for i in range(n,0,-1):\n",
    "  for j in range(i,0,-1):\n",
    "    print(j,end=\"\")\n",
    "  print()"
   ]
  },
  {
   "cell_type": "markdown",
   "metadata": {},
   "source": [
    "3)Write a python programme to find the fibonacci series"
   ]
  },
  {
   "cell_type": "code",
   "execution_count": 3,
   "metadata": {},
   "outputs": [
    {
     "name": "stdout",
     "output_type": "stream",
     "text": [
      "Enter the value of 'n': 6\n",
      "Fibonacci Series:  0 1 1 2 3 5 "
     ]
    }
   ],
   "source": [
    "\n",
    "n = int(input(\"Enter the value of 'n': \"))\n",
    "a = 0\n",
    "b = 1\n",
    "sum = 0\n",
    "count = 1\n",
    "print(\"Fibonacci Series: \", end = \" \")\n",
    "while(count <= n):\n",
    "  print(sum, end = \" \")\n",
    "  count += 1\n",
    "  a = b\n",
    "  b = sum\n",
    "  sum = a + b\n"
   ]
  },
  {
   "cell_type": "markdown",
   "metadata": {},
   "source": [
    "4) Explain Armstrong number and write a code with a function\n",
    "\n",
    "A positive integer is called an Armstrong number (of order n)\n",
    "\n",
    "if abcd... = a^n + b^n + c^n + d^n ...\n",
    "\n",
    "153 = 111 + 555 + 333\n",
    "\n"
   ]
  },
  {
   "cell_type": "code",
   "execution_count": 4,
   "metadata": {},
   "outputs": [
    {
     "name": "stdout",
     "output_type": "stream",
     "text": [
      "Enter a number: 784\n",
      "784 is not an Armstrong number\n"
     ]
    }
   ],
   "source": [
    "num = int(input(\"Enter a number: \"))  \n",
    "sum = 0  \n",
    "temp = num  \n",
    "while temp > 0:  \n",
    "   digit = temp % 10  \n",
    "   sum = sum +(digit ** 3)  \n",
    "   temp //= 10  \n",
    "if num == sum:  \n",
    "   print(num,\"is an Armstrong number\")  \n",
    "else:  \n",
    "   print(num,\"is not an Armstrong number\")"
   ]
  },
  {
   "cell_type": "markdown",
   "metadata": {},
   "source": [
    "5) Write a program to print the multiplication table of 9\n",
    "\n"
   ]
  },
  {
   "cell_type": "code",
   "execution_count": 5,
   "metadata": {},
   "outputs": [
    {
     "name": "stdout",
     "output_type": "stream",
     "text": [
      "Enter number : 15\n",
      " 9 x 1 =  9\n",
      " 9 x 2 =  18\n",
      " 9 x 3 =  27\n",
      " 9 x 4 =  36\n",
      " 9 x 5 =  45\n",
      " 9 x 6 =  54\n",
      " 9 x 7 =  63\n",
      " 9 x 8 =  72\n",
      " 9 x 9 =  81\n",
      " 9 x 10 =  90\n",
      " 9 x 11 =  99\n",
      " 9 x 12 =  108\n",
      " 9 x 13 =  117\n",
      " 9 x 14 =  126\n",
      " 9 x 15 =  135\n"
     ]
    }
   ],
   "source": [
    "n = int(input(\"Enter number : \"))\n",
    "for i in range(1,n+1):\n",
    "  print(\" 9 x \" + str(i) + \" = \",i*9)\n"
   ]
  },
  {
   "cell_type": "markdown",
   "metadata": {},
   "source": [
    "6) Check if a number is negative or positive\n",
    "\n"
   ]
  },
  {
   "cell_type": "code",
   "execution_count": 6,
   "metadata": {},
   "outputs": [
    {
     "name": "stdout",
     "output_type": "stream",
     "text": [
      "Enter a number : -789\n",
      "The number is negative\n"
     ]
    }
   ],
   "source": [
    "n = int(input(\"Enter a number : \"))\n",
    "if (n>=0):\n",
    "  print(\"The number is positive\")\n",
    "else:\n",
    "  print(\"The number is negative\")"
   ]
  },
  {
   "cell_type": "markdown",
   "metadata": {},
   "source": [
    "7) Write a program to convert the number of days to ages"
   ]
  },
  {
   "cell_type": "code",
   "execution_count": 8,
   "metadata": {},
   "outputs": [
    {
     "name": "stdout",
     "output_type": "stream",
     "text": [
      "enter the number of days : 9678\n",
      "Age is  26\n"
     ]
    }
   ],
   "source": [
    "n = int(input(\"enter the number of days : \"))\n",
    "age = n//365\n",
    "print(\"Age is \",age)"
   ]
  },
  {
   "cell_type": "markdown",
   "metadata": {},
   "source": [
    "8) Solve Trigonometry problem using math function write a program to solve using math function\n",
    "\n"
   ]
  },
  {
   "cell_type": "code",
   "execution_count": 9,
   "metadata": {},
   "outputs": [
    {
     "name": "stdout",
     "output_type": "stream",
     "text": [
      "The Sine of pi/6 :  0.49999999999999994\n",
      "The cosine of pi/6 :  0.8660254037844387\n",
      "The tangent of pi/6 :  0.5773502691896257\n",
      "The hypotenuse of b and c 5.0\n",
      "The degree of a :  29.999999999999996\n",
      "The radians value from degree value b 0.05235987755982989\n"
     ]
    }
   ],
   "source": [
    "import math  \n",
    "a = math.pi/6\n",
    "b = 3\n",
    "c = 4\n",
    "print (\"The Sine of pi/6 : \",math.sin(a)) \n",
    "print (\"The cosine of pi/6 : \",math.cos(a)) \n",
    "print (\"The tangent of pi/6 : \",math.tan(a))\n",
    "print (\"The hypotenuse of b and c\",math.hypot(b,c)) \n",
    "print (\"The degree of a : \",math.degrees(a))\n",
    "print (\"The radians value from degree value b\",math.radians(b))"
   ]
  },
  {
   "cell_type": "markdown",
   "metadata": {},
   "source": [
    "9) Create a calculator only on a code level by using if condition (Basic arithmetic calculation)\n",
    "\n"
   ]
  },
  {
   "cell_type": "code",
   "execution_count": 10,
   "metadata": {},
   "outputs": [
    {
     "name": "stdout",
     "output_type": "stream",
     "text": [
      "Basic Calculator\n",
      "Enter the operation you want to perform : 1.addition 2.subtraction 3.multiplication 4.division\n",
      "2\n",
      "Enter the first number : 56\n",
      "Enter the second number : 89\n",
      "Subtraction of 56 and 89 is :  -33\n"
     ]
    }
   ],
   "source": [
    "print(\"Basic Calculator\")\n",
    "print(\"Enter the operation you want to perform : 1.addition 2.subtraction 3.multiplication 4.division\")\n",
    "option = int(input())\n",
    "a = int(input(\"Enter the first number : \"))\n",
    "b = int(input(\"Enter the second number : \"))\n",
    "if (option==1):\n",
    "  print(\"Addition of \" + str(a) + \" and \" + str(b) + \" is : \",a+b)\n",
    "elif (option==2):\n",
    "  print(\"Subtraction of \" + str(a) + \" and \" + str(b) + \" is : \",a-b)\n",
    "elif (option==3):\n",
    "  print(\"multiplication of \" + str(a) + \" and \" + str(b) + \" is : \",a*b)\n",
    "elif (option==4):\n",
    "  print(\"Division of \" + str(a) + \" and \" + str(b) + \" is : \",a/b)"
   ]
  },
  {
   "cell_type": "code",
   "execution_count": null,
   "metadata": {},
   "outputs": [],
   "source": []
  }
 ],
 "metadata": {
  "kernelspec": {
   "display_name": "Python 3",
   "language": "python",
   "name": "python3"
  },
  "language_info": {
   "codemirror_mode": {
    "name": "ipython",
    "version": 3
   },
   "file_extension": ".py",
   "mimetype": "text/x-python",
   "name": "python",
   "nbconvert_exporter": "python",
   "pygments_lexer": "ipython3",
   "version": "3.7.6"
  }
 },
 "nbformat": 4,
 "nbformat_minor": 4
}
